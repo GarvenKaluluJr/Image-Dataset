{
  "nbformat": 4,
  "nbformat_minor": 0,
  "metadata": {
    "colab": {
      "provenance": []
    },
    "kernelspec": {
      "name": "python3",
      "display_name": "Python 3"
    },
    "language_info": {
      "name": "python"
    }
  },
  "cells": [
    {
      "cell_type": "code",
      "execution_count": null,
      "metadata": {
        "id": "dK0C3bxyrZzg"
      },
      "outputs": [],
      "source": [
        "import os\n",
        "import cv2\n",
        "import numpy as np\n",
        "import tensorflow as tf\n",
        "from google.colab import files"
      ]
    },
    {
      "cell_type": "code",
      "source": [
        "# Upload your model and image files to Colab\n",
        "print(\"Please upload your TensorFlow Lite model file:\")\n",
        "uploaded = files.upload()\n",
        "MODEL_PATH = list(uploaded.keys())[0]  # Get the uploaded model path\n"
      ],
      "metadata": {
        "colab": {
          "base_uri": "https://localhost:8080/"
        },
        "id": "ICL7pZTWrmNH",
        "outputId": "a9730c51-b26d-4a8f-ca18-e0ce6e1c8b5b"
      },
      "execution_count": null,
      "outputs": [
        {
          "output_type": "stream",
          "name": "stdout",
          "text": [
            "Saving vww_96_grayscale_quantized.tflite to vww_96_grayscale_quantized.tflite\n"
          ]
        }
      ]
    },
    {
      "cell_type": "code",
      "source": [
        "print(\"Please upload an image file for testing:\")\n",
        "uploaded = files.upload()\n",
        "TEST_IMAGE_PATH = list(uploaded.keys())[0]  # Get the uploaded image path"
      ],
      "metadata": {
        "id": "Ap2GekCysWqu"
      },
      "execution_count": null,
      "outputs": []
    },
    {
      "cell_type": "code",
      "source": [
        "# Initialize the TensorFlow Lite interpreter\n",
        "try:\n",
        "    interpreter = tf.lite.Interpreter(model_path=MODEL_PATH)\n",
        "    interpreter.allocate_tensors()\n",
        "except AttributeError as e:\n",
        "    print(\"Error initializing the TensorFlow Lite Interpreter. Ensure you have a compatible TensorFlow version.\")\n",
        "    exit(1)"
      ],
      "metadata": {
        "id": "K44A3ceyskLl"
      },
      "execution_count": null,
      "outputs": []
    },
    {
      "cell_type": "code",
      "source": [
        "# Get input and output details of the model\n",
        "input_details = interpreter.get_input_details()\n",
        "output_details = interpreter.get_output_details()\n",
        "input_shape = input_details[0]['shape']\n"
      ],
      "metadata": {
        "id": "TtJShPhOssNN"
      },
      "execution_count": null,
      "outputs": []
    },
    {
      "cell_type": "code",
      "source": [
        "# Function to load and preprocess an image for model input\n",
        "def load_and_preprocess_image(image_path):\n",
        "    image = cv2.imread(image_path, cv2.IMREAD_GRAYSCALE)\n",
        "    image = cv2.resize(image, (input_shape[1], input_shape[2]))\n",
        "    image = np.expand_dims(image, axis=-1).astype(np.float32) / 255.0  # Normalize to [0,1]\n",
        "    image = np.expand_dims(image, axis=0)  # Model expects a 4D tensor\n",
        "    return image"
      ],
      "metadata": {
        "id": "fBPkpenFsuOF"
      },
      "execution_count": null,
      "outputs": []
    },
    {
      "cell_type": "code",
      "source": [
        "# Function to classify a single image\n",
        "def classify_image(image_path):\n",
        "    image = load_and_preprocess_image(image_path)\n",
        "    interpreter.set_tensor(input_details[0]['index'], image)\n",
        "    interpreter.invoke()\n",
        "    output_data = interpreter.get_tensor(output_details[0]['index'])\n",
        "\n",
        "    # Find the predicted label and confidence\n",
        "    predicted_label = np.argmax(output_data)\n",
        "    confidence = output_data[0][predicted_label]\n",
        "\n",
        "    return predicted_label, confidence\n"
      ],
      "metadata": {
        "id": "_bQw8E6Os72O"
      },
      "execution_count": null,
      "outputs": []
    },
    {
      "cell_type": "code",
      "source": [
        "# Function to classify a single image and return confidence percentages\n",
        "def classify_image(image_path):\n",
        "    image = load_and_preprocess_image(image_path)\n",
        "    interpreter.set_tensor(input_details[0]['index'], image)\n",
        "    interpreter.invoke()\n",
        "    output_data = interpreter.get_tensor(output_details[0]['index'])[0]\n",
        "\n",
        "    # Calculate confidence percentages\n",
        "    dog_confidence = round(float(output_data[0]) * 100, 2)\n",
        "    cat_confidence = round(float(output_data[1]) * 100, 2)\n",
        "\n",
        "    return {\"Dog\": dog_confidence, \"Cat\": cat_confidence}\n"
      ],
      "metadata": {
        "id": "VUrLtxwys_nN"
      },
      "execution_count": null,
      "outputs": []
    },
    {
      "cell_type": "code",
      "source": [
        "# Main function to classify an image\n",
        "def main():\n",
        "    result = classify_image(TEST_IMAGE_PATH)\n",
        "    print(f\"Classification result for {TEST_IMAGE_PATH}:\")\n",
        "    print(f\"Dog: {result['Dog']}%\")\n",
        "    print(f\"Cat: {result['Cat']}%\")\n",
        "\n",
        "if __name__ == \"__main__\":\n",
        "    main()"
      ],
      "metadata": {
        "colab": {
          "base_uri": "https://localhost:8080/"
        },
        "id": "bXHpdgJbtEMV",
        "outputId": "5fc6d17b-69f2-4348-93de-c07d455cf3f8"
      },
      "execution_count": null,
      "outputs": [
        {
          "output_type": "stream",
          "name": "stdout",
          "text": [
            "Classification result for dog.4006.jpg:\n",
            "Dog: 98.55%\n",
            "Cat: 1.45%\n"
          ]
        }
      ]
    }
  ]
}